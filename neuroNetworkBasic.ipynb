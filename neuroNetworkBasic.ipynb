{
 "cells": [
  {
   "cell_type": "markdown",
   "metadata": {
    "id": "4eev2n2DfsAH"
   },
   "source": [
    "## MLBA Assigment2\n",
    "*繳交期限: 10/08 18:00"
   ]
  },
  {
   "cell_type": "markdown",
   "metadata": {
    "id": "CyeDOvf_Zwtv"
   },
   "source": [
    "### Question 1 (5%) \n",
    "Consider a $ d \\times d$ matrix $A$ that its null space is identical to its column space. Show that $d$ is even, and provide an example of such a matrix."
   ]
  },
  {
   "cell_type": "markdown",
   "metadata": {
    "id": "0HXUKsSHZwq6"
   },
   "source": [
    "### Question 2 (10%) \n",
    "Consider a modified least-squares problem of minimizing $\\|A\\bar{x}-\\bar{b}\\|+\\bar{c}^T\\bar{x}$, where $A$ is an $n \\times d$ matrix, $\\bar{x}$, $\\bar{c}$ are $d$-dimensional vecters, and $\\bar{b}$ is an $n$-dimensional vector. Show that the problem can be reduced to the standard least-squares problem as long as $\\hat{c}$ lies in the row space of $A$. What happens when $\\bar{c}$ does not lie in the row space of $A$ ?"
   ]
  },
  {
   "cell_type": "markdown",
   "metadata": {
    "id": "K_j3BKE8Z3d_"
   },
   "source": [
    "### Question 3 (5%)  \n",
    "Let $A$ be an $n\\times m$ matrix and $B$ be a $k\\times d$ matrix. Show that the column space of $AXB$ is always a subspace of the column space of $A$, and the row space of $AXB$ is a subspace of the row space of $B$ for any $m\\times k$ matrix $X$."
   ]
  },
  {
   "cell_type": "markdown",
   "metadata": {
    "id": "_40qrv4UZ3YU"
   },
   "source": [
    "### Question 4 (10%)  \n",
    "Construct $4\\times 3$ matrices $A$ and $B$ of rank $2$ that are not multiples of one another, but with the same four fundamental subspaces of linear algebra."
   ]
  },
  {
   "cell_type": "markdown",
   "metadata": {
    "id": "s59rm988Z3S2"
   },
   "source": [
    "### Question 5 (10%) \n",
    "How many weighs and biases are in a network with $5$ input in each feature vector and $7$ neurons on each of the $4$ hidden layers ? How many activation functions are in this network, before the final output ?"
   ]
  },
  {
   "cell_type": "markdown",
   "metadata": {
    "id": "1FjHsLjgZ3OW"
   },
   "source": [
    "### Question 6 (45%)\n",
    "Use the blue ball, orange ring dataset on [playground.tensorflow.org](https://playground.tensorflow.org/#activation=tanh&batchSize=10&dataset=circle&regDataset=reg-plane&learningRate=0.03&regularizationRate=0&noise=0&networkShape=4,2&seed=0.79627&showTestData=false&discretize=false&percTrainData=50&x=true&y=true&xTimesY=false&xSquared=false&ySquared=false&cosX=false&sinX=false&cosY=false&sinY=false&collectStats=false&problem=classification&initZero=false&hideText=false) with one hidden layer and activation by ReLU. When learning succeeds, a white polygon separates blue from orange in the figure that follows.  \n",
    "\n",
    "1) 5%\n",
    "> Does learning succeed for $N = 4$ ? What is the count $r(N,2)$ with inputs $x_1$ and $x_2$ of flat pieces in $F(x)$ ? The white polygon shows where flat pieces in the graph of $F(x)$ change sign as they go though the base plane $z = 0$. How many sides in the polygon ?  \n",
    "\n",
    "2) 5%  \n",
    "> Reduce to $N = 3$ neurons in one layer. Does $F$ still classify blue and orange correctly ? How many flat pieces $r(3,2)$ with inputs $x_1$ and $x_2$ in the graph of $F(v)$ and how many sides in the separating polygon ?  \n",
    "\n",
    "3) 5%\n",
    "> Reduce further to $N = 2$ neurons in one layer. Does learning still succeed ? What is the count $r(2,2)$ with inputs $x_1$ and $x_2$ of flat pieces ? How many folds in the graph of $F(v)$ ? How many sides in the white separator ? \n",
    "\n",
    "4) 10%  \n",
    "> Dataset : blue and orange in two quadrants each. With one layer and inputs $x_1$ and $x_2$, do $N = 3$ neurons and even $N = 2$ neurons classify that training data correctly ? How many flat pieces are needed for success ? Describe the unusual graph of $F(v)$ when $N = 2$.  \n",
    "\n",
    "5) 10%  \n",
    "> Dataset : blue and orange spirals. When one hidden layer and inputs $x_1$ and $x_2$, can the network learn this training data ? Describe the results as $N$ increases. \n",
    "\n",
    "6) 5%  \n",
    "> Try 5) with two hidden layers and inputs $x_1$ and $x_2$. Starts with $4+4$ and $6+2$ and $2+6$ neurons. Is $2+6$ better or worse or more unusual than $6+2$ ? \n",
    "\n",
    "7) 5%  \n",
    "> How many neurons bring complete separation of spirals in 5) with two hidden layers and inputs $x_1$ and $x_2$ ? Can three layers succeed with fewer neurons than two layers ?  \n",
    "\n",
    "\n",
    "\n",
    "\n"
   ]
  },
  {
   "cell_type": "markdown",
   "metadata": {
    "id": "_6p-N4qjZ3Fu"
   },
   "source": [
    "### Question 7 (5%)\n"
   ]
  },
  {
   "cell_type": "markdown",
   "metadata": {
    "id": "putX2u-gZ6Kx"
   },
   "source": [
    "Overflow is when the absolute  value of the number is too high for the computer to represent it.  \n",
    "Only floats have a limit in python.\n",
    "The following code is an example."
   ]
  },
  {
   "cell_type": "code",
   "execution_count": null,
   "metadata": {
    "id": "qr-jMzOTu0nt"
   },
   "outputs": [],
   "source": [
    "import sys\n",
    "import numpy as np\n",
    "import matplotlib.pyplot as plt"
   ]
  },
  {
   "cell_type": "code",
   "execution_count": null,
   "metadata": {
    "colab": {
     "base_uri": "https://localhost:8080/",
     "height": 70
    },
    "id": "fzcsED8g5NgO",
    "outputId": "15fd8107-b8c1-4aa3-8990-26a19429d5f0"
   },
   "outputs": [
    {
     "name": "stdout",
     "output_type": "stream",
     "text": [
      "9223372036854775807\n",
      "False\n",
      "9223372036854775808\n"
     ]
    }
   ],
   "source": [
    "# integer\n",
    "i = sys.maxsize\n",
    "print(i)\n",
    "print(i == i + 1)\n",
    "i += 1\n",
    "print(i)"
   ]
  },
  {
   "cell_type": "code",
   "execution_count": null,
   "metadata": {
    "colab": {
     "base_uri": "https://localhost:8080/",
     "height": 70
    },
    "id": "NaQiMGwC6Hcl",
    "outputId": "71826cb7-8c82-4131-a882-51d59643f8a7"
   },
   "outputs": [
    {
     "name": "stdout",
     "output_type": "stream",
     "text": [
      "1.7976931348623157e+308\n",
      "True\n",
      "1.7976931348623157e+308\n"
     ]
    }
   ],
   "source": [
    "# float\n",
    "f = sys.float_info.max\n",
    "print(f)\n",
    "print(f == f + 1)\n",
    "f += 1\n",
    "print(f)"
   ]
  },
  {
   "cell_type": "markdown",
   "metadata": {
    "id": "bmNy3QZ_7X1o"
   },
   "source": [
    "Please complete the code to make sure you can catch the overflow problem.  \n",
    "Print the result and answer why this error occur.\n",
    "``` python\n",
    "i=1\n",
    "try:\n",
    "  f = 3.0**i\n",
    "  for i in ______________:\n",
    "    print (i, f)\n",
    "    f = f ** 2\n",
    "except OverflowError as err:\n",
    "  print ('Overflowed after ', f, err)\n",
    "  ```"
   ]
  },
  {
   "cell_type": "markdown",
   "metadata": {
    "id": "JB-QUow9Y3FJ"
   },
   "source": [
    "### Answer 7"
   ]
  },
  {
   "cell_type": "markdown",
   "metadata": {
    "id": "xd9b3yZUc_X2"
   },
   "source": []
  },
  {
   "cell_type": "code",
   "execution_count": null,
   "metadata": {
    "id": "BMJXMfJxY2dC"
   },
   "outputs": [],
   "source": [
    "i=1\n",
    "try:\n",
    "  f = 3.0**i\n",
    "  for i in [sys.float_info.max,(sys.float_info.max)**2]:\n",
    "    print (i, f)\n",
    "    f = f ** 2\n",
    "except OverflowError as err:\n",
    "  print ('Overflowed after ', f, err)"
   ]
  },
  {
   "cell_type": "markdown",
   "metadata": {
    "id": "hBUGDdd3ZwlK"
   },
   "source": [
    "### Question 8 (5%)\n",
    "\n"
   ]
  },
  {
   "cell_type": "markdown",
   "metadata": {
    "id": "ZBYF9Wc_ZxR3"
   },
   "source": [
    "Underflow is when the absolute value of the number is too close to zero for the computer to represent it.  \n",
    "We know that $x/y$ equals to $e^{{{\\rm log}x}-{\\rm log}y}$.  \n",
    "Assume $x=2^{-930}, y=2^{-1008}$, which method is more accurate?"
   ]
  },
  {
   "cell_type": "markdown",
   "metadata": {
    "id": "CigdA13PZLrY"
   },
   "source": [
    "### Answer 8"
   ]
  },
  {
   "cell_type": "markdown",
   "metadata": {
    "id": "immiKi4rc-AP"
   },
   "source": []
  },
  {
   "cell_type": "code",
   "execution_count": null,
   "metadata": {
    "id": "QnQKkWmIZK75"
   },
   "outputs": [],
   "source": []
  },
  {
   "cell_type": "markdown",
   "metadata": {
    "id": "r-LoiS-iZwb0"
   },
   "source": [
    "### Question 9 (5%)\n"
   ]
  },
  {
   "cell_type": "markdown",
   "metadata": {
    "id": "yJo28hf9Zcdo"
   },
   "source": [
    "Please try two different batch size and write down what you observe.  \n",
    "What is the pros and cons if we set a large batch size?  \n",
    "[deep-learning-from-scratch](https://github.com/oreilly-japan/deep-learning-from-scratch)\n",
    "\n",
    "```python\n",
    "x, t = get_data()\n",
    "network = init_network()\n",
    "batch_size = _____________\n",
    "accuracy_cnt = 0\n",
    "acc=[]\n",
    "\n",
    "for i in range(0, len(x), batch_size):\n",
    "  x_batch = x[i:i+batch_size]\n",
    "  y_batch = predict(network, x_batch)\n",
    "  p = np.argmax(y_batch, axis=1)\n",
    "  accuracy_cnt += np.sum(p == t[i:i+batch_size])\n",
    "  acc.append(float(accuracy_cnt) / len(x))\n",
    "  print(\"Accuracy:\" + str(float(accuracy_cnt) / len(x)))\n",
    "\n",
    "plt.plot(acc, marker='.')\n",
    "```"
   ]
  },
  {
   "cell_type": "code",
   "execution_count": null,
   "metadata": {
    "colab": {
     "base_uri": "https://localhost:8080/",
     "height": 35
    },
    "id": "k3cNgfwvHgww",
    "outputId": "a01e9a1d-1175-49e6-ccf5-3d7621651426"
   },
   "outputs": [
    {
     "name": "stdout",
     "output_type": "stream",
     "text": [
      "Mounted at /content/drive\n"
     ]
    }
   ],
   "source": [
    "from google.colab import drive\n",
    "drive.mount(\"/content/drive\", force_remount=True)"
   ]
  },
  {
   "cell_type": "code",
   "execution_count": null,
   "metadata": {
    "colab": {
     "base_uri": "https://localhost:8080/",
     "height": 36
    },
    "id": "nAgiS3ILHsw9",
    "outputId": "41a7c0f2-7473-4b18-bf8c-8ed7cd0cd55a"
   },
   "outputs": [
    {
     "data": {
      "application/vnd.google.colaboratory.intrinsic+json": {
       "type": "string"
      },
      "text/plain": [
       "'/content/drive/.shortcut-targets-by-id/10VztyshKrZme-KOvHQxh1J4WETx8UiIs/MLBA/deep-learning-from-scratch'"
      ]
     },
     "execution_count": 68,
     "metadata": {
      "tags": []
     },
     "output_type": "execute_result"
    }
   ],
   "source": [
    "import os\n",
    "os.chdir(\"/content/drive/My Drive/MLBA/deep-learning-from-scratch\") # 將路徑設至 \"/.../deep-learning-from-scratch\"\n",
    "os.getcwd()"
   ]
  },
  {
   "cell_type": "code",
   "execution_count": null,
   "metadata": {
    "id": "RuYdjxghFjID"
   },
   "outputs": [],
   "source": [
    "# CH3\n",
    "import pickle\n",
    "from dataset.mnist import load_mnist\n",
    "from common.functions import *\n",
    "\n",
    "def get_data():\n",
    "  (x_train, t_train), (x_test, t_test) = load_mnist(normalize=True, flatten=True, one_hot_label=False)\n",
    "  return x_test, t_test\n",
    "\n",
    "def init_network():\n",
    "  with open(\"/content/drive/My Drive/MLBA/deep-learning-from-scratch/ch03/sample_weight.pkl\", 'rb') as f:\n",
    "    network = pickle.load(f)\n",
    "  return network\n",
    "\n",
    "def predict(network, x):\n",
    "  W1, W2, W3 = network['W1'], network['W2'], network['W3']\n",
    "  b1, b2, b3 = network['b1'], network['b2'], network['b3']\n",
    "  a1 = np.dot(x, W1) + b1\n",
    "  z1 = sigmoid(a1)\n",
    "  a2 = np.dot(z1, W2) + b2\n",
    "  z2 = sigmoid(a2)\n",
    "  a3 = np.dot(z2, W3) + b3\n",
    "  y = softmax(a3)\n",
    "  return y"
   ]
  },
  {
   "cell_type": "markdown",
   "metadata": {
    "id": "Eu4BMBBwc5KA"
   },
   "source": [
    "### Answer 9"
   ]
  },
  {
   "cell_type": "markdown",
   "metadata": {
    "id": "hRNqrZzSc79m"
   },
   "source": []
  },
  {
   "cell_type": "code",
   "execution_count": null,
   "metadata": {
    "id": "4NqTqTTYc7r-"
   },
   "outputs": [],
   "source": [
    "1+1"
   ]
  },
  {
   "cell_type": "code",
   "execution_count": null,
   "metadata": {},
   "outputs": [],
   "source": []
  }
 ],
 "metadata": {
  "colab": {
   "collapsed_sections": [],
   "name": "hw2_學號.ipynb",
   "provenance": []
  },
  "kernelspec": {
   "display_name": "Python 3",
   "language": "python",
   "name": "python3"
  },
  "language_info": {
   "codemirror_mode": {
    "name": "ipython",
    "version": 3
   },
   "file_extension": ".py",
   "mimetype": "text/x-python",
   "name": "python",
   "nbconvert_exporter": "python",
   "pygments_lexer": "ipython3",
   "version": "3.7.9"
  }
 },
 "nbformat": 4,
 "nbformat_minor": 1
}
